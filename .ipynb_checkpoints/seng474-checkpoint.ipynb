{
 "cells": [
  {
   "cell_type": "code",
   "execution_count": 45,
   "metadata": {},
   "outputs": [
    {
     "name": "stdout",
     "output_type": "stream",
     "text": [
      "[{'danceability': 0.658, 'energy': 0.697, 'key': 0, 'loudness': -6.682, 'mode': 1, 'speechiness': 0.0645, 'acousticness': 0.129, 'instrumentalness': 0.279, 'liveness': 0.108, 'valence': 0.51, 'tempo': 139.96, 'type': 'audio_features', 'id': '7lfADuEexIpuP4EjO46eZW', 'uri': 'spotify:track:7lfADuEexIpuP4EjO46eZW', 'track_href': 'https://api.spotify.com/v1/tracks/7lfADuEexIpuP4EjO46eZW', 'analysis_url': 'https://api.spotify.com/v1/audio-analysis/7lfADuEexIpuP4EjO46eZW', 'duration_ms': 113343, 'time_signature': 4}]\n"
     ]
    },
    {
     "data": {
      "text/plain": [
       "'\\nfor k, v in results[\"artists\"].items():\\n    if isinstance(v, list):\\n        for k2, v2 in v[0].items():\\n            print(\"\\t%s\\n\\t%s\\n\" % (k2, v2))\\n    else:\\n        print(\"%s\\n%s\\n\" % (k, v))\\n'"
      ]
     },
     "execution_count": 45,
     "metadata": {},
     "output_type": "execute_result"
    }
   ],
   "source": [
    "import sys\n",
    "import os\n",
    "import spotipy\n",
    "import spotipy.util as util\n",
    "\n",
    "os.environ[\"SPOTIPY_CLIENT_ID\"]='b0b5be645e864041a2fad5d7ccdf0531'\n",
    "os.environ[\"SPOTIPY_CLIENT_SECRET\"]='86078e2a70f0476e9ec2785ed822b05e'\n",
    "os.environ[\"SPOTIPY_REDIRECT_URI\"]='http://localhost:8080/'\n",
    "\n",
    "scope = 'user-library-read'\n",
    "\n",
    "token = util.prompt_for_user_token('sxwang@uvic.ca', scope)\n",
    "\n",
    "'''if token:\n",
    "   sp = spotipy.Spotify(auth=token)\n",
    "   results = sp.current_user_saved_tracks()\n",
    "   for item in results['items']:\n",
    "       track = item['track']\n",
    "       print track['name'] + ' - ' + track['artists'][0]['name']\n",
    "else:\n",
    "   print \"Can't get token for\", username'''\n",
    "\n",
    "spotify = spotipy.Spotify(auth=token)\n",
    "\n",
    "print(spotify.audio_features(\"7lfADuEexIpuP4EjO46eZW\"))\n",
    "\n",
    "'''\n",
    "results = spotify.search(q='artist:' + 'Radiohead', type='artist')\n",
    "\n",
    "for k, v in results[\"artists\"].items():\n",
    "    if isinstance(v, list):\n",
    "        for k2, v2 in v[0].items():\n",
    "            print(\"\\t%s\\n\\t%s\\n\" % (k2, v2))\n",
    "    else:\n",
    "        print(\"%s\\n%s\\n\" % (k, v))\n",
    "'''"
   ]
  },
  {
   "cell_type": "code",
   "execution_count": null,
   "metadata": {
    "collapsed": true
   },
   "outputs": [],
   "source": [
    "import sys\n",
    "import os\n",
    "import spotipy\n",
    "import spotipy.util as util\n",
    "\n",
    "os.environ[\"SPOTIPY_CLIENT_ID\"]='b0b5be645e864041a2fad5d7ccdf0531'\n",
    "os.environ[\"SPOTIPY_CLIENT_SECRET\"]='86078e2a70f0476e9ec2785ed822b05e'\n",
    "os.environ[\"SPOTIPY_REDIRECT_URI\"]='http://localhost:8080/'\n",
    "\n",
    "scope = 'user-library-read'\n",
    "\n",
    "token = util.prompt_for_user_token('sxwang@uvic.ca', scope)\n",
    "spotify = spotipy.Spotify(auth=token)\n",
    "\n",
    "\n"
   ]
  }
 ],
 "metadata": {
  "kernelspec": {
   "display_name": "Python 3",
   "language": "python",
   "name": "python3"
  },
  "language_info": {
   "codemirror_mode": {
    "name": "ipython",
    "version": 3
   },
   "file_extension": ".py",
   "mimetype": "text/x-python",
   "name": "python",
   "nbconvert_exporter": "python",
   "pygments_lexer": "ipython3",
   "version": "3.6.3"
  }
 },
 "nbformat": 4,
 "nbformat_minor": 2
}
