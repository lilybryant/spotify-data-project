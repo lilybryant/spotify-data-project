{
 "cells": [
  {
   "cell_type": "code",
   "execution_count": 1,
   "metadata": {},
   "outputs": [
    {
     "ename": "ModuleNotFoundError",
     "evalue": "No module named 'spotipy'",
     "output_type": "error",
     "traceback": [
      "\u001b[1;31m---------------------------------------------------------------------------\u001b[0m",
      "\u001b[1;31mModuleNotFoundError\u001b[0m                       Traceback (most recent call last)",
      "\u001b[1;32m<ipython-input-1-2ca8540886c8>\u001b[0m in \u001b[0;36m<module>\u001b[1;34m()\u001b[0m\n\u001b[0;32m      1\u001b[0m \u001b[1;32mimport\u001b[0m \u001b[0msys\u001b[0m\u001b[1;33m\u001b[0m\u001b[0m\n\u001b[0;32m      2\u001b[0m \u001b[1;32mimport\u001b[0m \u001b[0mos\u001b[0m\u001b[1;33m\u001b[0m\u001b[0m\n\u001b[1;32m----> 3\u001b[1;33m \u001b[1;32mimport\u001b[0m \u001b[0mspotipy\u001b[0m\u001b[1;33m\u001b[0m\u001b[0m\n\u001b[0m\u001b[0;32m      4\u001b[0m \u001b[1;32mimport\u001b[0m \u001b[0mspotipy\u001b[0m\u001b[1;33m.\u001b[0m\u001b[0mutil\u001b[0m \u001b[1;32mas\u001b[0m \u001b[0mutil\u001b[0m\u001b[1;33m\u001b[0m\u001b[0m\n\u001b[0;32m      5\u001b[0m \u001b[1;33m\u001b[0m\u001b[0m\n",
      "\u001b[1;31mModuleNotFoundError\u001b[0m: No module named 'spotipy'"
     ]
    }
   ],
   "source": [
    "import sys\n",
    "import os\n",
    "import spotipy\n",
    "import spotipy.util as util\n",
    "\n",
    "os.environ[\"SPOTIPY_CLIENT_ID\"]='b0b5be645e864041a2fad5d7ccdf0531'\n",
    "os.environ[\"SPOTIPY_CLIENT_SECRET\"]='86078e2a70f0476e9ec2785ed822b05e'\n",
    "os.environ[\"SPOTIPY_REDIRECT_URI\"]='http://localhost:8080/'\n",
    "\n",
    "scope = 'user-library-read'\n",
    "\n",
    "token = util.prompt_for_user_token('sxwang@uvic.ca', scope)\n",
    "\n",
    "'''if token:\n",
    "   sp = spotipy.Spotify(auth=token)\n",
    "   results = sp.current_user_saved_tracks()\n",
    "   for item in results['items']:\n",
    "       track = item['track']\n",
    "       print track['name'] + ' - ' + track['artists'][0]['name']\n",
    "else:\n",
    "   print \"Can't get token for\", username'''\n",
    "\n",
    "spotify = spotipy.Spotify(auth=token)\n",
    "\n",
    "print(spotify.audio_features(\"7lfADuEexIpuP4EjO46eZW\"))\n",
    "\n",
    "'''\n",
    "results = spotify.search(q='artist:' + 'Radiohead', type='artist')\n",
    "\n",
    "for k, v in results[\"artists\"].items():\n",
    "    if isinstance(v, list):\n",
    "        for k2, v2 in v[0].items():\n",
    "            print(\"\\t%s\\n\\t%s\\n\" % (k2, v2))\n",
    "    else:\n",
    "        print(\"%s\\n%s\\n\" % (k, v))\n",
    "'''"
   ]
  }
 ],
 "metadata": {
  "kernelspec": {
   "display_name": "Python [conda env:py36]",
   "language": "python",
   "name": "conda-env-py36-py"
  },
  "language_info": {
   "codemirror_mode": {
    "name": "ipython",
    "version": 3
   },
   "file_extension": ".py",
   "mimetype": "text/x-python",
   "name": "python",
   "nbconvert_exporter": "python",
   "pygments_lexer": "ipython3",
   "version": "3.6.6"
  }
 },
 "nbformat": 4,
 "nbformat_minor": 2
}
