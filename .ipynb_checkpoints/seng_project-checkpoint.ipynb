{
 "cells": [
  {
   "cell_type": "markdown",
   "metadata": {},
   "source": [
    "# Set-up and Authorization"
   ]
  },
  {
   "cell_type": "code",
   "execution_count": 5,
   "metadata": {
    "collapsed": true
   },
   "outputs": [],
   "source": [
    "import sys\n",
    "import os\n",
    "import spotipy\n",
    "import spotipy.util as util\n",
    "\n",
    "os.environ[\"SPOTIPY_CLIENT_ID\"]='b0b5be645e864041a2fad5d7ccdf0531'\n",
    "os.environ[\"SPOTIPY_CLIENT_SECRET\"]='86078e2a70f0476e9ec2785ed822b05e'\n",
    "os.environ[\"SPOTIPY_REDIRECT_URI\"]='http://localhost:8080/'\n",
    "\n",
    "scope = 'user-library-read'\n",
    "\n",
    "token = util.prompt_for_user_token('sxwang@uvic.ca', scope)\n",
    "spotify = spotipy.Spotify(auth=token)"
   ]
  },
  {
   "cell_type": "markdown",
   "metadata": {},
   "source": [
    "# Data Gathering"
   ]
  },
  {
   "cell_type": "markdown",
   "metadata": {},
   "source": [
    "### Get featured playlist tracks and their albums"
   ]
  },
  {
   "cell_type": "code",
   "execution_count": 39,
   "metadata": {
    "collapsed": true
   },
   "outputs": [],
   "source": [
    "featured_playlists = spotify.featured_playlists(locale=None, country=\"CA\", timestamp=None, limit=50, offset=0)\n",
    "\n",
    "featured_track_ids = set()\n",
    "album_ids = set()\n",
    "for playlist in featured_playlists[\"playlists\"][\"items\"]:\n",
    "    for track in spotify.user_playlist(\"spotify\", playlist['id'], fields=\"tracks, next\")[\"tracks\"][\"items\"]:\n",
    "        featured_track_ids.add(track[\"track\"][\"id\"])\n",
    "        album_ids.add(track[\"track\"][\"album\"][\"id\"])"
   ]
  },
  {
   "cell_type": "markdown",
   "metadata": {},
   "source": [
    "### Get tracks from albums"
   ]
  },
  {
   "cell_type": "code",
   "execution_count": 40,
   "metadata": {
    "collapsed": true
   },
   "outputs": [],
   "source": [
    "album_track_ids = set()\n",
    "for album in album_ids:\n",
    "    for track in spotify.album_tracks(album)[\"items\"]:\n",
    "        album_track_ids.add(track[\"id\"])"
   ]
  },
  {
   "cell_type": "code",
   "execution_count": 41,
   "metadata": {},
   "outputs": [
    {
     "name": "stdout",
     "output_type": "stream",
     "text": [
      "1352\n",
      "1263\n",
      "5544\n"
     ]
    }
   ],
   "source": [
    "# DEBUG\n",
    "print(len(featured_track_ids))\n",
    "print(len(album_ids))\n",
    "print(len(album_track_ids))"
   ]
  },
  {
   "cell_type": "markdown",
   "metadata": {},
   "source": [
    "# Data Pre-processing"
   ]
  },
  {
   "cell_type": "markdown",
   "metadata": {},
   "source": [
    "### Get Spotify audio features for each track"
   ]
  },
  {
   "cell_type": "code",
   "execution_count": 59,
   "metadata": {
    "collapsed": true
   },
   "outputs": [],
   "source": [
    "attribs = [\"danceability\",\n",
    "            \"energy\",\n",
    "            \"key\",\n",
    "            \"loudness\",\n",
    "            \"mode\",\n",
    "            \"speechiness\",\n",
    "            \"acousticness\",\n",
    "            \"instrumentalness\",\n",
    "            \"liveness\",\n",
    "            \"valence\",\n",
    "            \"tempo\",\n",
    "            \"duration_ms\",\n",
    "            \"time_signature\",\n",
    "            \"featured\",\n",
    "          ]\n",
    "\n",
    "def get_audio_data(track_ids, class_value):\n",
    "    tracks_data = {}\n",
    "    \n",
    "    for id in track_ids:\n",
    "        audio_data = spotify.audio_features(id)[0]\n",
    "        if audio_data is None:\n",
    "            print(\"id: \", id) # DEBUG, change to 'if audio_data is not None:'\n",
    "        else:\n",
    "            audio_data[\"featured\"] = class_value\n",
    "            tracks_data[id] = {k:v for (k,v) in audio_data.items() if k in attribs}\n",
    "    \n",
    "    return tracks_data"
   ]
  },
  {
   "cell_type": "code",
   "execution_count": 52,
   "metadata": {},
   "outputs": [
    {
     "name": "stdout",
     "output_type": "stream",
     "text": [
      "id:  6NGIfK4brC3Xc4l191RnjR\n"
     ]
    }
   ],
   "source": [
    "featured_tracks = get_audio_data(featured_track_ids, 1)"
   ]
  },
  {
   "cell_type": "code",
   "execution_count": 60,
   "metadata": {},
   "outputs": [
    {
     "name": "stdout",
     "output_type": "stream",
     "text": [
      "id:  6NGIfK4brC3Xc4l191RnjR\n"
     ]
    }
   ],
   "source": [
    "album_tracks = get_audio_data(album_track_ids, 0)"
   ]
  },
  {
   "cell_type": "code",
   "execution_count": 61,
   "metadata": {},
   "outputs": [
    {
     "name": "stdout",
     "output_type": "stream",
     "text": [
      "1351\n",
      "5543\n"
     ]
    }
   ],
   "source": [
    "# DEBUG\n",
    "print(len(featured_tracks))\n",
    "print(len(album_tracks))"
   ]
  },
  {
   "cell_type": "markdown",
   "metadata": {},
   "source": [
    "### Combine track databases such that featured track class values are not overwritten"
   ]
  },
  {
   "cell_type": "code",
   "execution_count": 67,
   "metadata": {},
   "outputs": [
    {
     "name": "stdout",
     "output_type": "stream",
     "text": [
      "5543\n"
     ]
    }
   ],
   "source": [
    "db = featured_tracks\n",
    "for k, v in album_tracks.items():\n",
    "    if k not in db:\n",
    "        db[k] = v\n",
    "        \n",
    "# DEBUG\n",
    "print(len(db))"
   ]
  },
  {
   "cell_type": "markdown",
   "metadata": {},
   "source": [
    "### Export data"
   ]
  },
  {
   "cell_type": "code",
   "execution_count": 65,
   "metadata": {
    "collapsed": true
   },
   "outputs": [],
   "source": [
    "import csv\n",
    "\n",
    "with open('data.csv', 'w') as f:\n",
    "    writer = csv.DictWriter(f, fieldnames = attribs)\n",
    "\n",
    "    writer.writeheader()\n",
    "    for track in db.values():\n",
    "        writer.writerow(track)"
   ]
  },
  {
   "cell_type": "markdown",
   "metadata": {},
   "source": [
    "### Get Spotify new album releases [test dataset]"
   ]
  },
  {
   "cell_type": "code",
   "execution_count": 17,
   "metadata": {},
   "outputs": [
    {
     "name": "stdout",
     "output_type": "stream",
     "text": [
      "Top Lists\n",
      "Happy Holidays\n",
      "Pop\n",
      "Hip-Hop\n",
      "Mood\n",
      "Decades\n",
      "Arab\n",
      "Country\n",
      "R&B\n",
      "Workout\n",
      "Electronic/Dance\n",
      "Francophone\n",
      "Party\n",
      "Chill\n",
      "Rock\n",
      "Indie\n",
      "Folk & Acoustic\n",
      "Latin\n",
      "Christian\n",
      "Focus\n",
      "Sleep\n",
      "Jazz\n",
      "Classical\n",
      "Romance\n",
      "Gaming\n",
      "K-Pop\n",
      "Metal\n",
      "Reggae\n",
      "Desi\n",
      "Afro\n",
      "Dinner\n",
      "Pop culture\n",
      "Spotify Singles\n",
      "Travel\n",
      "Soul\n",
      "Punk\n",
      "Kids & Family\n",
      "Blues\n",
      "Funk\n",
      "Comedy\n",
      "Word\n"
     ]
    }
   ],
   "source": [
    "for s in spotify.categories(country=\"CA\", locale=None, limit=50, offset=0)[\"categories\"][\"items\"]:\n",
    "    print(s[\"name\"])"
   ]
  },
  {
   "cell_type": "code",
   "execution_count": 31,
   "metadata": {},
   "outputs": [
    {
     "name": "stdout",
     "output_type": "stream",
     "text": [
      "come out and play -  Billie Eilish\n",
      "Rhinestone World -  Dallas Smith\n",
      "Phoenix (Deluxe) -  Rita Ora\n",
      "Not at Peace -  Ria Mae\n",
      "Trails -  Lost Cousins\n",
      "THE BOY WHO DIED -  DillanPonders\n",
      "Side A -  Kira Isabella\n",
      "Better When I Do -  Aaron Pritchett\n",
      "MAYBE - Side A -  Valley\n",
      "Phases -  Mackenzie Ziegler\n",
      "The City Holds My Heart -  Ghostly Kisses\n",
      "Jackson Pollock -  Grandtheft\n",
      "Sail Away -  Møme\n",
      "DJ MelBoogie Presents the L.I.F.E. Project -  DJ MelBoogie\n",
      "The Sunset Tapes: A Cool Tape Story -  Jaden Smith\n",
      "SOS -  Millencolin\n",
      "301N -  Birthday Boy\n",
      "Till You Drop -  ItaloBrothers\n",
      "Stand Out Fit In -  ONE OK ROCK\n",
      "65 Nickels -  Pkew Pkew Pkew\n",
      "White Christmas (Spotify Singles - Christmas, Recorded at Sound Stage Studios Nashville) -  Meghan Trainor\n",
      "Extinction(s) -  Unearth\n",
      "Spotify Singles - Christmas -  Why Don't We\n",
      "Spotify Singles - Christmas -  Nina Nesbitt\n",
      "Give Love on Christmas Day - Recorded at Spotify Studios NYC (Spotify Singles - Christmas) -  John Legend\n",
      "Spotify Singles - Christmas -  Jon Batiste\n",
      "Spotify Singles - Christmas (Recorded At Spotify Studios NYC) -  Jim James\n",
      "Spotify Singles - Christmas -  Amy Helm\n",
      "Spotify Singles - Christmas -  Devin Dawson\n",
      "Spotify Singles - Christmas -  Aloe Blacc\n",
      "Spotify Singles - Christmas -  Joan Jett & The Blackhearts\n",
      "Spotify Singles – Christmas -  Pale Waves\n",
      "Spotify Singles – Christmas -  Fenne Lily\n",
      "Spotify Singles - Christmas -  Tony Bennett\n",
      "Baby It's Cold Outside - Spotify Singles - Christmas, Recorded at Metropolis Studios, London -  Paloma Faith\n",
      "Spotify Singles -  Christopher\n",
      "love (Deluxe Edition) -  Michael Bublé\n",
      "Love, me -  Lennon Stella\n",
      "Delta -  Mumford & Sons\n",
      "LM5 (Deluxe) -  Little Mix\n",
      "The Greatest Showman: Reimagined -  Various Artists\n",
      "Harry Hard-On -  Allan Rayman\n",
      "Waves (feat. 6LACK) -  Normani\n",
      "Not Today -  Alessia Cara\n",
      "Hot Wings Are A Girl’s Best Friend -  2 Chainz\n",
      "Creed II: The Album -  Mike WiLL Made-It\n",
      "mau5ville: Level 2 -  deadmau5\n",
      "Spotify Singles -  Shawn Mendes\n",
      "No Candle No Light (feat. Nicki Minaj) -  ZAYN\n",
      "I'm Not Goin' (feat. Kevin Gates) -  Gucci Mane\n"
     ]
    }
   ],
   "source": [
    "for s in spotify.new_releases(country=\"CA\", limit=50)[\"albums\"][\"items\"]:\n",
    "    print(s[\"name\"] + \" - \", s[\"artists\"][0][\"name\"])"
   ]
  },
  {
   "cell_type": "markdown",
   "metadata": {},
   "source": [
    "# Notes:"
   ]
  },
  {
   "cell_type": "markdown",
   "metadata": {},
   "source": [
    "- Remove DEBUG prints\n",
    "- May want to check for repeats between featured_track_ids and album_track_ids before getting audio features to save some processing time\n",
    "- Consider adding log-in info to set-up code block so they can rerun our code\n",
    "- Consider saving track IDs in Weka somehow for results comparison and accuracy-checking\n",
    "- Add better data structures?"
   ]
  }
 ],
 "metadata": {
  "kernelspec": {
   "display_name": "Python 3",
   "language": "python",
   "name": "python3"
  },
  "language_info": {
   "codemirror_mode": {
    "name": "ipython",
    "version": 3
   },
   "file_extension": ".py",
   "mimetype": "text/x-python",
   "name": "python",
   "nbconvert_exporter": "python",
   "pygments_lexer": "ipython3",
   "version": "3.6.3"
  }
 },
 "nbformat": 4,
 "nbformat_minor": 2
}
